{
 "cells": [
  {
   "cell_type": "code",
   "execution_count": 1,
   "metadata": {},
   "outputs": [
    {
     "name": "stderr",
     "output_type": "stream",
     "text": [
      "/Users/sajalchandra/opt/anaconda3/lib/python3.9/site-packages/geopandas/_compat.py:124: UserWarning: The Shapely GEOS version (3.10.3-CAPI-1.16.1) is incompatible with the GEOS version PyGEOS was compiled with (3.10.4-CAPI-1.16.2). Conversions between both will be slow.\n",
      "  warnings.warn(\n"
     ]
    },
    {
     "ename": "ModuleNotFoundError",
     "evalue": "No module named 'plotoptix'",
     "output_type": "error",
     "traceback": [
      "\u001b[0;31m---------------------------------------------------------------------------\u001b[0m",
      "\u001b[0;31mModuleNotFoundError\u001b[0m                       Traceback (most recent call last)",
      "\u001b[0;32m/var/folders/yc/wxxj4gcj6q1f0kpf_507pky40000gn/T/ipykernel_17241/2406037606.py\u001b[0m in \u001b[0;36m<module>\u001b[0;34m\u001b[0m\n\u001b[1;32m      3\u001b[0m \u001b[0msys\u001b[0m\u001b[0;34m.\u001b[0m\u001b[0mpath\u001b[0m\u001b[0;34m.\u001b[0m\u001b[0mappend\u001b[0m\u001b[0;34m(\u001b[0m\u001b[0;34m'../../src/'\u001b[0m\u001b[0;34m)\u001b[0m\u001b[0;34m\u001b[0m\u001b[0;34m\u001b[0m\u001b[0m\n\u001b[1;32m      4\u001b[0m \u001b[0;32mimport\u001b[0m \u001b[0mjson\u001b[0m\u001b[0;34m\u001b[0m\u001b[0;34m\u001b[0m\u001b[0m\n\u001b[0;32m----> 5\u001b[0;31m \u001b[0;32mfrom\u001b[0m \u001b[0mutk_backend\u001b[0m\u001b[0;34m.\u001b[0m\u001b[0mutk_file_handler\u001b[0m \u001b[0;32mimport\u001b[0m \u001b[0mUTKFileHandler\u001b[0m\u001b[0;34m\u001b[0m\u001b[0;34m\u001b[0m\u001b[0m\n\u001b[0m\u001b[1;32m      6\u001b[0m \u001b[0;31m# from utk_backend.utk_file_handler import UTKFileHandler\u001b[0m\u001b[0;34m\u001b[0m\u001b[0;34m\u001b[0m\u001b[0m\n\u001b[1;32m      7\u001b[0m \u001b[0;32mfrom\u001b[0m \u001b[0mutk_backend\u001b[0m\u001b[0;34m.\u001b[0m\u001b[0mosm\u001b[0m \u001b[0;32mimport\u001b[0m \u001b[0mOSM\u001b[0m\u001b[0;34m\u001b[0m\u001b[0;34m\u001b[0m\u001b[0m\n",
      "\u001b[0;32m~/Desktop/UIC/Research with Prof Miranda/Urban-Toolkit/UTK/utk-pip-version/cloned-from-git/utk/examples/downtown_manhattan/../../src/utk_backend/__init__.py\u001b[0m in \u001b[0;36m<module>\u001b[0;34m\u001b[0m\n\u001b[1;32m      1\u001b[0m \u001b[0;32mfrom\u001b[0m \u001b[0;34m.\u001b[0m\u001b[0mosm\u001b[0m \u001b[0;32mimport\u001b[0m \u001b[0;34m*\u001b[0m\u001b[0;34m\u001b[0m\u001b[0;34m\u001b[0m\u001b[0m\n\u001b[0;32m----> 2\u001b[0;31m \u001b[0;32mfrom\u001b[0m \u001b[0;34m.\u001b[0m\u001b[0mdata\u001b[0m \u001b[0;32mimport\u001b[0m \u001b[0;34m*\u001b[0m\u001b[0;34m\u001b[0m\u001b[0;34m\u001b[0m\u001b[0m\n\u001b[0m\u001b[1;32m      3\u001b[0m \u001b[0;32mfrom\u001b[0m \u001b[0;34m.\u001b[0m\u001b[0murban_component\u001b[0m \u001b[0;32mimport\u001b[0m \u001b[0;34m*\u001b[0m\u001b[0;34m\u001b[0m\u001b[0;34m\u001b[0m\u001b[0m\n\u001b[1;32m      4\u001b[0m \u001b[0;32mfrom\u001b[0m \u001b[0;34m.\u001b[0m\u001b[0mload_utk\u001b[0m \u001b[0;32mimport\u001b[0m \u001b[0;34m*\u001b[0m\u001b[0;34m\u001b[0m\u001b[0;34m\u001b[0m\u001b[0m\n\u001b[1;32m      5\u001b[0m \u001b[0;32mfrom\u001b[0m \u001b[0;34m.\u001b[0m\u001b[0mutk_file_handler\u001b[0m \u001b[0;32mimport\u001b[0m \u001b[0;34m*\u001b[0m\u001b[0;34m\u001b[0m\u001b[0;34m\u001b[0m\u001b[0m\n",
      "\u001b[0;32m~/Desktop/UIC/Research with Prof Miranda/Urban-Toolkit/UTK/utk-pip-version/cloned-from-git/utk/examples/downtown_manhattan/../../src/utk_backend/data.py\u001b[0m in \u001b[0;36m<module>\u001b[0;34m\u001b[0m\n\u001b[1;32m      7\u001b[0m \u001b[0;31m# try:\u001b[0m\u001b[0;34m\u001b[0m\u001b[0;34m\u001b[0m\u001b[0m\n\u001b[1;32m      8\u001b[0m     \u001b[0;31m# Avoid importing it in systems without optix\u001b[0m\u001b[0;34m\u001b[0m\u001b[0;34m\u001b[0m\u001b[0m\n\u001b[0;32m----> 9\u001b[0;31m \u001b[0;32mfrom\u001b[0m \u001b[0;34m.\u001b[0m\u001b[0mshadow_accumulator\u001b[0m \u001b[0;32mimport\u001b[0m \u001b[0;34m*\u001b[0m\u001b[0;34m\u001b[0m\u001b[0;34m\u001b[0m\u001b[0m\n\u001b[0m\u001b[1;32m     10\u001b[0m \u001b[0;31m# except:\u001b[0m\u001b[0;34m\u001b[0m\u001b[0;34m\u001b[0m\u001b[0m\n\u001b[1;32m     11\u001b[0m \u001b[0;31m#     import warnings\u001b[0m\u001b[0;34m\u001b[0m\u001b[0;34m\u001b[0m\u001b[0m\n",
      "\u001b[0;32m~/Desktop/UIC/Research with Prof Miranda/Urban-Toolkit/UTK/utk-pip-version/cloned-from-git/utk/examples/downtown_manhattan/../../src/utk_backend/shadow_accumulator.py\u001b[0m in \u001b[0;36m<module>\u001b[0;34m\u001b[0m\n\u001b[1;32m     16\u001b[0m \u001b[0;34m\u001b[0m\u001b[0m\n\u001b[1;32m     17\u001b[0m \u001b[0;31m# if sys.platform != \"darwin\":\u001b[0m\u001b[0;34m\u001b[0m\u001b[0;34m\u001b[0m\u001b[0m\n\u001b[0;32m---> 18\u001b[0;31m \u001b[0;32mfrom\u001b[0m \u001b[0mplotoptix\u001b[0m \u001b[0;32mimport\u001b[0m \u001b[0mNpOptiX\u001b[0m\u001b[0;34m\u001b[0m\u001b[0;34m\u001b[0m\u001b[0m\n\u001b[0m\u001b[1;32m     19\u001b[0m \u001b[0;32mfrom\u001b[0m \u001b[0mplotoptix\u001b[0m\u001b[0;34m.\u001b[0m\u001b[0mgeometry\u001b[0m \u001b[0;32mimport\u001b[0m \u001b[0mPinnedBuffer\u001b[0m\u001b[0;34m\u001b[0m\u001b[0;34m\u001b[0m\u001b[0m\n\u001b[1;32m     20\u001b[0m \u001b[0;34m\u001b[0m\u001b[0m\n",
      "\u001b[0;31mModuleNotFoundError\u001b[0m: No module named 'plotoptix'"
     ]
    }
   ],
   "source": [
    "import utk\n",
    "import sys\n",
    "sys.path.append('../../src/')\n",
    "import json\n",
    "from utk_backend.utk_file_handler import UTKFileHandler\n",
    "# from utk_backend.utk_file_handler import UTKFileHandler\n",
    "from utk_backend.osm import OSM\n",
    "from utk_backend.load_utk_binary import UTK_Binary_Loader\n",
    "from utk_backend.data import shadow_utk_binary"
   ]
  },
  {
   "cell_type": "code",
   "execution_count": null,
   "metadata": {},
   "outputs": [
    {
     "name": "stdout",
     "output_type": "stream",
     "text": [
      "buffer size for coordinates(size2) is 2\n",
      "Decoded coordinates!\n",
      "buffer size for indices(size2) is 2\n",
      "Decoded indices!\n",
      "buffer size for normals(size2) is 2\n",
      "Decoded normals!\n",
      "buffer size for ids(size2) is 2\n",
      "Decoded ids!\n",
      "buffer size for discardFuncInterval(size16) is 2\n",
      "Decoded discardFuncInterval!\n",
      "Done parsing raw data\n",
      "buffer size for coordinates(size504) is 504\n",
      "Decoded coordinates!\n",
      "buffer size for indices(size504) is 504\n",
      "Decoded indices!\n",
      "buffer size for normals(size504) is 504\n",
      "Decoded normals!\n",
      "buffer size for ids(size504) is 504\n",
      "Decoded ids!\n",
      "buffer size for orientedEnvelope(size12096) is 12096\n",
      "Decoded orientedEnvelope!\n",
      "buffer size for sectionFootprint(size82986) is 82986\n",
      "Decoded sectionFootprint!\n",
      "Done parsing raw data\n"
     ]
    }
   ],
   "source": [
    "utk_loader = UTK_Binary_Loader()\n",
    "surface_json = utk_loader.load_utk_binary('./downtown_manhattan_binary/surface.utk', './downtown_manhattan_binary/surface_blob.data')\n",
    "buildings_json = utk_loader.load_utk_binary('./downtown_manhattan_binary/buildings.utk', './downtown_manhattan_binary/buildings_blob.data')"
   ]
  },
  {
   "cell_type": "code",
   "execution_count": 9,
   "metadata": {},
   "outputs": [
    {
     "data": {
      "text/plain": [
       "1379052"
      ]
     },
     "execution_count": 9,
     "metadata": {},
     "output_type": "execute_result"
    }
   ],
   "source": [
    "# len(decoded_json['data'][0]['geometry']['coordinates'])"
   ]
  },
  {
   "cell_type": "code",
   "execution_count": 8,
   "metadata": {},
   "outputs": [
    {
     "name": "stdout",
     "output_type": "stream",
     "text": [
      "key = coordinates, size = 504\n",
      "key = indices, size = 504\n",
      "key = normals, size = 504\n",
      "key = ids, size = 504\n",
      "key = orientedEnvelope, size = 12096\n",
      "key = sectionFootprint, size = 82986\n",
      "key = coordinates, size = 5171868\n",
      "key = indices, size = 5171868\n",
      "key = normals, size = 2600760\n",
      "key = ids, size = 866920\n"
     ]
    }
   ],
   "source": [
    "# type(decoded_data)\n",
    "for k, v in decoded_ptr.items():\n",
    "    print(f'key = {k}, size = {len(v)}')\n",
    "for k, v in decoded_bin.items():\n",
    "    print(f'key = {k}, size = {len(v)}')\n",
    "# print(decoded_ptr.keys())\n",
    "# print(decoded_bin.keys())"
   ]
  },
  {
   "cell_type": "code",
   "execution_count": 11,
   "metadata": {},
   "outputs": [
    {
     "data": {
      "text/plain": [
       "(-8239175.5702,\n",
       " 4940769.6085,\n",
       " 8.0,\n",
       " -8239206.9364,\n",
       " 4940760.7818,\n",
       " -8239207.7357,\n",
       " 4940737.0401,\n",
       " -8239183.8285,\n",
       " 4940736.2353,\n",
       " -8239183.0292,\n",
       " 4940759.9769,\n",
       " 14.0,\n",
       " 8.0,\n",
       " -8238935.3337,\n",
       " 4941459.7617)"
      ]
     },
     "execution_count": 11,
     "metadata": {},
     "output_type": "execute_result"
    }
   ],
   "source": [
    "decoded_ptr['orientedEnvelope'][35:50]"
   ]
  },
  {
   "cell_type": "code",
   "execution_count": null,
   "metadata": {},
   "outputs": [],
   "source": []
  },
  {
   "attachments": {},
   "cell_type": "markdown",
   "metadata": {},
   "source": [
    "### Loading layers from OSM"
   ]
  },
  {
   "attachments": {},
   "cell_type": "markdown",
   "metadata": {},
   "source": [
    "Loading water, parks, street network (roads), surface, buildings.  \n",
    "\n",
    "Notice that the buildings and surface layers are specified through an object, this structure is used to defined the discretization level of the layer. Check the [documentation](https://github.com/urban-toolkit/urbantk-react-ts/tree/master/src/pythonComponents/dataLoading/README.md) for more details.  \n",
    "\n",
    "The surface is loaded to allow for the ray tracing calculation.  "
   ]
  },
  {
   "cell_type": "code",
   "execution_count": 2,
   "metadata": {},
   "outputs": [
    {
     "data": {
      "application/vnd.jupyter.widget-view+json": {
       "model_id": "bb465c4f177b437984cda74ed0c717c1",
       "version_major": 2,
       "version_minor": 0
      },
      "text/plain": [
       "  0%|          | 0/252 [00:00<?, ?it/s]"
      ]
     },
     "metadata": {},
     "output_type": "display_data"
    },
    {
     "name": "stdout",
     "output_type": "stream",
     "text": [
      "type of coordinates is d\n",
      "type of normals is f\n",
      "type of indices is I\n",
      "type of ids is I\n",
      "Data has been written to file buildings\n",
      "\n",
      "KSNSFNSFKLFNFS\n",
      "\n",
      "\n",
      "type of coordinates is d\n",
      "type of normals is f\n",
      "type of indices is I\n",
      "type of ids is I\n",
      "Data has been written to file surface\n",
      "\n",
      "KSNSFNSFKLFNFS\n",
      "\n",
      "\n",
      "type of coordinates is d\n",
      "type of indices is I\n",
      "Data has been written to file parks\n",
      "\n",
      "KSNSFNSFKLFNFS\n",
      "\n",
      "\n",
      "type of coordinates is d\n",
      "type of indices is I\n",
      "Data has been written to file water\n",
      "\n",
      "KSNSFNSFKLFNFS\n",
      "\n",
      "\n",
      "type of coordinates is d\n",
      "type of indices is I\n",
      "Data has been written to file roads\n",
      "\n",
      "KSNSFNSFKLFNFS\n",
      "\n",
      "\n"
     ]
    }
   ],
   "source": [
    "# uc = OSM.load([40.699768, -74.019904, 40.71135, -74.004712], layers=[{'name':'buildings', 'args': {'sizeCells': 5}}, {'name':'surface', 'args': {'sizeCells': 5}}, 'parks', 'water', 'roads'])\n",
    "# uc.save('./downtown_manhattan_binary', includeGrammar=True)"
   ]
  },
  {
   "attachments": {},
   "cell_type": "markdown",
   "metadata": {},
   "source": [
    "### Shadow computation (ray tracing)\n",
    "Check the [requirements](https://github.com/urban-toolkit/urbantk-react-ts/tree/master/README.md) for ray tracing."
   ]
  },
  {
   "cell_type": "code",
   "execution_count": 2,
   "metadata": {},
   "outputs": [],
   "source": []
  },
  {
   "cell_type": "code",
   "execution_count": null,
   "metadata": {},
   "outputs": [],
   "source": []
  },
  {
   "cell_type": "code",
   "execution_count": null,
   "metadata": {},
   "outputs": [],
   "source": []
  },
  {
   "cell_type": "code",
   "execution_count": 6,
   "metadata": {},
   "outputs": [
    {
     "ename": "NameError",
     "evalue": "name 'ShadowAccumulator' is not defined",
     "output_type": "error",
     "traceback": [
      "\u001b[0;31m---------------------------------------------------------------------------\u001b[0m",
      "\u001b[0;31mNameError\u001b[0m                                 Traceback (most recent call last)",
      "\u001b[0;32m/var/folders/yc/wxxj4gcj6q1f0kpf_507pky40000gn/T/ipykernel_17153/2008587695.py\u001b[0m in \u001b[0;36m<module>\u001b[0;34m\u001b[0m\n\u001b[0;32m----> 1\u001b[0;31m \u001b[0mshadow\u001b[0m \u001b[0;34m=\u001b[0m \u001b[0mshadow_utk_binary\u001b[0m\u001b[0;34m(\u001b[0m\u001b[0;34m[\u001b[0m\u001b[0mbuildings_json\u001b[0m\u001b[0;34m,\u001b[0m \u001b[0msurface_json\u001b[0m\u001b[0;34m]\u001b[0m\u001b[0;34m,\u001b[0m \u001b[0;34m[\u001b[0m\u001b[0;34m[\u001b[0m\u001b[0;34m\"12/26/2015 10:00\"\u001b[0m\u001b[0;34m,\u001b[0m \u001b[0;34m\"12/26/2015 11:01\"\u001b[0m\u001b[0;34m]\u001b[0m\u001b[0;34m]\u001b[0m\u001b[0;34m)\u001b[0m\u001b[0;34m\u001b[0m\u001b[0;34m\u001b[0m\u001b[0m\n\u001b[0m\u001b[1;32m      2\u001b[0m \u001b[0mshadow\u001b[0m\u001b[0;34m.\u001b[0m\u001b[0msave\u001b[0m\u001b[0;34m(\u001b[0m\u001b[0;34m)\u001b[0m\u001b[0;34m\u001b[0m\u001b[0;34m\u001b[0m\u001b[0m\n",
      "\u001b[0;32m~/Desktop/UIC/Research with Prof Miranda/Urban-Toolkit/UTK/utk-pip-version/cloned-from-git/utk/examples/downtown_manhattan/../../src/utk_backend/data.py\u001b[0m in \u001b[0;36mshadow_utk_binary\u001b[0;34m(layerJSONs, intervals)\u001b[0m\n\u001b[1;32m     61\u001b[0m     \u001b[0mcentroid\u001b[0m \u001b[0;34m=\u001b[0m \u001b[0mconvert_projections\u001b[0m\u001b[0;34m(\u001b[0m\u001b[0;34m'3395'\u001b[0m\u001b[0;34m,\u001b[0m \u001b[0;34m'4326'\u001b[0m\u001b[0;34m,\u001b[0m \u001b[0;34m[\u001b[0m\u001b[0;34m(\u001b[0m\u001b[0mmin\u001b[0m\u001b[0;34m(\u001b[0m\u001b[0mlongitudes\u001b[0m\u001b[0;34m)\u001b[0m \u001b[0;34m+\u001b[0m \u001b[0mmax\u001b[0m\u001b[0;34m(\u001b[0m\u001b[0mlongitudes\u001b[0m\u001b[0;34m)\u001b[0m\u001b[0;34m)\u001b[0m\u001b[0;34m/\u001b[0m\u001b[0;36m2\u001b[0m\u001b[0;34m,\u001b[0m \u001b[0;34m(\u001b[0m\u001b[0mmin\u001b[0m\u001b[0;34m(\u001b[0m\u001b[0mlatitudes\u001b[0m\u001b[0;34m)\u001b[0m \u001b[0;34m+\u001b[0m \u001b[0mmax\u001b[0m\u001b[0;34m(\u001b[0m\u001b[0mlatitudes\u001b[0m\u001b[0;34m)\u001b[0m\u001b[0;34m)\u001b[0m\u001b[0;34m/\u001b[0m\u001b[0;36m2\u001b[0m\u001b[0;34m]\u001b[0m\u001b[0;34m)\u001b[0m\u001b[0;34m\u001b[0m\u001b[0;34m\u001b[0m\u001b[0m\n\u001b[1;32m     62\u001b[0m \u001b[0;34m\u001b[0m\u001b[0m\n\u001b[0;32m---> 63\u001b[0;31m     \u001b[0mshadowAccumulator\u001b[0m \u001b[0;34m=\u001b[0m \u001b[0mShadowAccumulator\u001b[0m\u001b[0;34m(\u001b[0m\u001b[0mcentroid\u001b[0m\u001b[0;34m[\u001b[0m\u001b[0;36m1\u001b[0m\u001b[0;34m]\u001b[0m\u001b[0;34m,\u001b[0m \u001b[0mcentroid\u001b[0m\u001b[0;34m[\u001b[0m\u001b[0;36m0\u001b[0m\u001b[0;34m]\u001b[0m\u001b[0;34m,\u001b[0m \u001b[0mlayerJSONs\u001b[0m\u001b[0;34m,\u001b[0m \u001b[0mintervals\u001b[0m\u001b[0;34m)\u001b[0m\u001b[0;34m\u001b[0m\u001b[0;34m\u001b[0m\u001b[0m\n\u001b[0m\u001b[1;32m     64\u001b[0m     \u001b[0mshadowAccumulator\u001b[0m\u001b[0;34m.\u001b[0m\u001b[0maccumulate_shadow\u001b[0m\u001b[0;34m(\u001b[0m\u001b[0;34m)\u001b[0m\u001b[0;34m\u001b[0m\u001b[0;34m\u001b[0m\u001b[0m\n\u001b[1;32m     65\u001b[0m \u001b[0;34m\u001b[0m\u001b[0m\n",
      "\u001b[0;31mNameError\u001b[0m: name 'ShadowAccumulator' is not defined"
     ]
    }
   ],
   "source": [
    "shadow = shadow_utk_binary([buildings_json, surface_json], [[\"12/26/2015 10:00\", \"12/26/2015 11:01\"]])\n",
    "shadow.save()"
   ]
  },
  {
   "cell_type": "code",
   "execution_count": 7,
   "metadata": {},
   "outputs": [],
   "source": [
    "# shadow = utk.data.shadow(['./downtown_manhattan/buildings.json', './downtown_manhattan/surface.json'], [[\"12/26/2015 10:00\", \"12/26/2015 11:01\"]])\n",
    "# shadow.save()"
   ]
  }
 ],
 "metadata": {
  "kernelspec": {
   "display_name": "base",
   "language": "python",
   "name": "python3"
  },
  "language_info": {
   "codemirror_mode": {
    "name": "ipython",
    "version": 3
   },
   "file_extension": ".py",
   "mimetype": "text/x-python",
   "name": "python",
   "nbconvert_exporter": "python",
   "pygments_lexer": "ipython3",
   "version": "3.9.13"
  },
  "orig_nbformat": 4,
  "vscode": {
   "interpreter": {
    "hash": "b4351807a6c6bda5d21ae3993f780f83f680b298c5efdaa552017137dbdbbfe2"
   }
  }
 },
 "nbformat": 4,
 "nbformat_minor": 2
}
