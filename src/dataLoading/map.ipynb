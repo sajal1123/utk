{
 "cells": [
  {
   "cell_type": "code",
   "execution_count": 1,
   "metadata": {},
   "outputs": [
    {
     "ename": "ModuleNotFoundError",
     "evalue": "No module named 'loader'",
     "output_type": "error",
     "traceback": [
      "\u001b[1;31m---------------------------------------------------------------------------\u001b[0m",
      "\u001b[1;31mModuleNotFoundError\u001b[0m                       Traceback (most recent call last)",
      "Cell \u001b[1;32mIn[1], line 1\u001b[0m\n\u001b[1;32m----> 1\u001b[0m \u001b[38;5;28;01mfrom\u001b[39;00m \u001b[38;5;21;01mloader\u001b[39;00m \u001b[38;5;28;01mimport\u001b[39;00m \u001b[38;5;241m*\u001b[39m\n\u001b[0;32m      2\u001b[0m \u001b[38;5;28;01mfrom\u001b[39;00m \u001b[38;5;21;01murbanComponent\u001b[39;00m \u001b[38;5;28;01mimport\u001b[39;00m \u001b[38;5;241m*\u001b[39m\n\u001b[0;32m      3\u001b[0m \u001b[38;5;28;01mimport\u001b[39;00m \u001b[38;5;21;01mgeopandas\u001b[39;00m \u001b[38;5;28;01mas\u001b[39;00m \u001b[38;5;21;01mgpd\u001b[39;00m\n",
      "\u001b[1;31mModuleNotFoundError\u001b[0m: No module named 'loader'"
     ]
    }
   ],
   "source": [
    "from loader import *\n",
    "from urbanComponent import *\n",
    "import geopandas as gpd\n",
    "import pandas as pd\n",
    "# import sys\n",
    "# sys.path.insert(0,'../../')"
   ]
  },
  {
   "cell_type": "code",
   "execution_count": 2,
   "metadata": {},
   "outputs": [
    {
     "data": {
      "application/vnd.jupyter.widget-view+json": {
       "model_id": "2b0541a6c99d485dbfb36f262ff1099d",
       "version_major": 2,
       "version_minor": 0
      },
      "text/plain": [
       "  0%|          | 0/45 [00:00<?, ?it/s]"
      ]
     },
     "metadata": {},
     "output_type": "display_data"
    },
    {
     "data": {
      "application/vnd.jupyter.widget-view+json": {
       "model_id": "5a990ea7e33046a48e4cf53ccb007284",
       "version_major": 2,
       "version_minor": 0
      },
      "text/plain": [
       "  0%|          | 0/40 [00:00<?, ?it/s]"
      ]
     },
     "metadata": {},
     "output_type": "display_data"
    },
    {
     "name": "stdout",
     "output_type": "stream",
     "text": [
      "<shapely.geometry.base.GeometrySequence object at 0x000001FE8C63EA70>\n",
      "<shapely.geometry.base.GeometrySequence object at 0x000001FE8C63DA20>\n",
      "<shapely.geometry.base.GeometrySequence object at 0x000001FE8C63EE90>\n",
      "<shapely.geometry.base.GeometrySequence object at 0x000001FE8C638AF0>\n",
      "<shapely.geometry.base.GeometrySequence object at 0x000001FE8C63A530>\n",
      "<shapely.geometry.base.GeometrySequence object at 0x000001FE8C63BE20>\n",
      "<shapely.geometry.base.GeometrySequence object at 0x000001FE8C63D450>\n",
      "<shapely.geometry.base.GeometrySequence object at 0x000001FE8C63DA20>\n",
      "<shapely.geometry.base.GeometrySequence object at 0x000001FE8C63E9E0>\n",
      "<shapely.geometry.base.GeometrySequence object at 0x000001FE8C63F010>\n",
      "<shapely.geometry.base.GeometrySequence object at 0x000001FE8C63E260>\n",
      "<shapely.geometry.base.GeometrySequence object at 0x000001FE8C63EEF0>\n",
      "<shapely.geometry.base.GeometrySequence object at 0x000001FE8C63EE30>\n",
      "<shapely.geometry.base.GeometrySequence object at 0x000001FE8C63EFB0>\n",
      "<shapely.geometry.base.GeometrySequence object at 0x000001FE8C63F010>\n",
      "<shapely.geometry.base.GeometrySequence object at 0x000001FE8C63D780>\n",
      "<shapely.geometry.base.GeometrySequence object at 0x000001FE8C63E6B0>\n",
      "<shapely.geometry.base.GeometrySequence object at 0x000001FE8C63ED40>\n",
      "<shapely.geometry.base.GeometrySequence object at 0x000001FE8C63EA70>\n",
      "<shapely.geometry.base.GeometrySequence object at 0x000001FE8C63E9E0>\n",
      "<shapely.geometry.base.GeometrySequence object at 0x000001FE8C63EE30>\n",
      "<shapely.geometry.base.GeometrySequence object at 0x000001FE8C63F010>\n",
      "<shapely.geometry.base.GeometrySequence object at 0x000001FE8C60C070>\n",
      "<shapely.geometry.base.GeometrySequence object at 0x000001FE8C60C1C0>\n",
      "<shapely.geometry.base.GeometrySequence object at 0x000001FE8C60E7D0>\n",
      "<shapely.geometry.base.GeometrySequence object at 0x000001FE8C60D210>\n",
      "<shapely.geometry.base.GeometrySequence object at 0x000001FE8C63F010>\n",
      "<shapely.geometry.base.GeometrySequence object at 0x000001FE8C63EE90>\n",
      "<shapely.geometry.base.GeometrySequence object at 0x000001FE8C63E9E0>\n",
      "<shapely.geometry.base.GeometrySequence object at 0x000001FE8C63F070>\n",
      "<shapely.geometry.base.GeometrySequence object at 0x000001FE8C63D450>\n",
      "<shapely.geometry.base.GeometrySequence object at 0x000001FE8C63EE90>\n",
      "<shapely.geometry.base.GeometrySequence object at 0x000001FE8C63EA70>\n",
      "<shapely.geometry.base.GeometrySequence object at 0x000001FE8C63EE90>\n",
      "<shapely.geometry.base.GeometrySequence object at 0x000001FE8C63EF20>\n",
      "<shapely.geometry.base.GeometrySequence object at 0x000001FE8C63D6F0>\n",
      "<shapely.geometry.base.GeometrySequence object at 0x000001FE8C63EDA0>\n",
      "<shapely.geometry.base.GeometrySequence object at 0x000001FE8C63DDE0>\n",
      "<shapely.geometry.base.GeometrySequence object at 0x000001FE8C63E650>\n",
      "<shapely.geometry.base.GeometrySequence object at 0x000001FE8C63DDE0>\n"
     ]
    }
   ],
   "source": [
    "df_buildings = OSM.create_dataframe('osm_pbf_files/greenland-latest.osm.pbf')\n",
    "# df_buildings = OSM.create_dataframe('osm_pbf_files/nyc.osm.pbf', [40.699768, -74.019904, 40.71135, -74.004712])\n",
    "df_merged_buildings = OSM.merge_buildings(df_buildings)\n",
    "\n",
    "df_mesh = Mesh.create_mesh(df_merged_buildings, 5) #gdf, size\n",
    "\n",
    "# df_mesh.to_pickle('buildings_nyc_5.pkl.zip')\n",
    "\n",
    "# df_mesh = pd.read_pickle('./osm_pbf_files/buildings.pkl.zip')\n",
    "\n",
    "# coords, indices, ids, colors, normals = Mesh.get_coordinates(df_mesh, True)\n",
    "\n",
    "# json_mesh = Mesh.gdf_to_json(df_mesh.iloc[[49, 50, 51]])\n",
    "# json_mesh = Mesh.gdf_to_json(df_mesh)\n",
    "\n",
    "# with open(\"buildings.json\", \"w\") as outfile:\n",
    "    # json.dump(json_mesh, outfile, indent=4)\n",
    "\n",
    "# urban_component = new UrbanComponent(layers = loaded, bbox = bbox, camera = cam)"
   ]
  },
  {
   "cell_type": "code",
   "execution_count": null,
   "metadata": {},
   "outputs": [],
   "source": [
    "# uc.view(width='100%',height='800px')\n",
    "Mesh.view(df_mesh)\n"
   ]
  },
  {
   "cell_type": "code",
   "execution_count": null,
   "metadata": {},
   "outputs": [],
   "source": [
    "# uc = OSM.load_from_bbox([40.699768, -74.019904, 40.71135, -74.004712]) # An error regarding the coastline is emitted when using this bbox TODO: fix\n",
    "uc = OSM.load_from_bbox([40.728641,-74.000280,40.732836,-73.994486]) # loads UrbanComponent containing all layers\n",
    "uc.to_file('./uc_data/index.json')"
   ]
  }
 ],
 "metadata": {
  "kernelspec": {
   "display_name": "Python 3",
   "language": "python",
   "name": "python3"
  },
  "language_info": {
   "codemirror_mode": {
    "name": "ipython",
    "version": 3
   },
   "file_extension": ".py",
   "mimetype": "text/x-python",
   "name": "python",
   "nbconvert_exporter": "python",
   "pygments_lexer": "ipython3",
   "version": "3.10.5"
  },
  "vscode": {
   "interpreter": {
    "hash": "417a5b75eced6a10a6aab538a5d6d1aa2801868f4335db3e9395b85b77ab2694"
   }
  }
 },
 "nbformat": 4,
 "nbformat_minor": 4
}
