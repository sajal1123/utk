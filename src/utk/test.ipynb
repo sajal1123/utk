{
 "cells": [
  {
   "cell_type": "code",
   "execution_count": 2,
   "id": "9b506d3c-9d12-40a4-b254-4f95973f0b83",
   "metadata": {},
   "outputs": [
    {
     "name": "stdout",
     "output_type": "stream",
     "text": [
      "a\n"
     ]
    }
   ],
   "source": [
    "print('a')"
   ]
  },
  {
   "cell_type": "code",
   "execution_count": 3,
   "id": "21a113f1-a883-47e3-bf09-ad1d1b545b61",
   "metadata": {},
   "outputs": [
    {
     "ename": "NameError",
     "evalue": "name 'utk' is not defined",
     "output_type": "error",
     "traceback": [
      "\u001b[1;31m---------------------------------------------------------------------------\u001b[0m",
      "\u001b[1;31mNameError\u001b[0m                                 Traceback (most recent call last)",
      "Input \u001b[1;32mIn [3]\u001b[0m, in \u001b[0;36m<cell line: 1>\u001b[1;34m()\u001b[0m\n\u001b[1;32m----> 1\u001b[0m uc \u001b[38;5;241m=\u001b[39m \u001b[43mutk\u001b[49m\u001b[38;5;241m.\u001b[39mOSM\u001b[38;5;241m.\u001b[39mload([\u001b[38;5;241m40.699768\u001b[39m, \u001b[38;5;241m-\u001b[39m\u001b[38;5;241m74.019904\u001b[39m, \u001b[38;5;241m40.71135\u001b[39m, \u001b[38;5;241m-\u001b[39m\u001b[38;5;241m74.004712\u001b[39m], layers\u001b[38;5;241m=\u001b[39m[\u001b[38;5;124m'\u001b[39m\u001b[38;5;124mbuildings\u001b[39m\u001b[38;5;124m'\u001b[39m])\n\u001b[0;32m      2\u001b[0m uc\u001b[38;5;241m.\u001b[39msave(\u001b[38;5;124m'\u001b[39m\u001b[38;5;124m./data/my_first_vis\u001b[39m\u001b[38;5;124m'\u001b[39m, includeGrammar\u001b[38;5;241m=\u001b[39m\u001b[38;5;28;01mFalse\u001b[39;00m)\n",
      "\u001b[1;31mNameError\u001b[0m: name 'utk' is not defined"
     ]
    }
   ],
   "source": [
    "uc = utk.OSM.load([40.699768, -74.019904, 40.71135, -74.004712], layers=['buildings'])\n",
    "uc.save('./data/my_first_vis', includeGrammar=False)"
   ]
  },
  {
   "cell_type": "code",
   "execution_count": null,
   "id": "87f0a176-6513-4458-b2b5-2f089457e26e",
   "metadata": {},
   "outputs": [],
   "source": []
  }
 ],
 "metadata": {
  "kernelspec": {
   "display_name": "Python 3",
   "language": "python",
   "name": "python3"
  },
  "language_info": {
   "codemirror_mode": {
    "name": "ipython",
    "version": 3
   },
   "file_extension": ".py",
   "mimetype": "text/x-python",
   "name": "python",
   "nbconvert_exporter": "python",
   "pygments_lexer": "ipython3",
   "version": "3.10.6"
  }
 },
 "nbformat": 4,
 "nbformat_minor": 5
}
