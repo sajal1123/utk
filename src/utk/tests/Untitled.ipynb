{
 "cells": [
  {
   "cell_type": "code",
   "execution_count": 1,
   "id": "35c5044a-f4cf-48b0-8095-c3daebf71bfb",
   "metadata": {},
   "outputs": [
    {
     "name": "stderr",
     "output_type": "stream",
     "text": [
      "C:\\Users\\Vinicius\\.pyenv\\pyenv-win\\versions\\3.10.5\\lib\\site-packages\\geopandas\\_compat.py:124: UserWarning: The Shapely GEOS version (3.10.3-CAPI-1.16.1) is incompatible with the GEOS version PyGEOS was compiled with (3.10.4-CAPI-1.16.2). Conversions between both will be slow.\n",
      "  warnings.warn(\n"
     ]
    },
    {
     "name": "stdout",
     "output_type": "stream",
     "text": [
      "********************************************************************************\n",
      "PlotOptiX newer version is available: 0.17.0\n",
      "to update your release use:\n",
      "      pip install plotoptix --upgrade\n",
      "********************************************************************************\n"
     ]
    }
   ],
   "source": [
    "import utk"
   ]
  },
  {
   "cell_type": "code",
   "execution_count": null,
   "id": "0eb0c203-66b4-429e-b082-8d7c03c33113",
   "metadata": {},
   "outputs": [
    {
     "data": {
      "application/vnd.jupyter.widget-view+json": {
       "model_id": "f390fcf124b74a649c9cbc86c5298073",
       "version_major": 2,
       "version_minor": 0
      },
      "text/plain": [
       "  0%|          | 0/241 [00:00<?, ?it/s]"
      ]
     },
     "metadata": {},
     "output_type": "display_data"
    },
    {
     "name": "stderr",
     "output_type": "stream",
     "text": [
      "C:\\Users\\Vinicius\\.pyenv\\pyenv-win\\versions\\3.10.5\\lib\\site-packages\\geopandas\\geodataframe.py:1803: FutureWarning: `unary_union` returned None due to all-None GeoSeries. In future, `unary_union` will return 'GEOMETRYCOLLECTION EMPTY' instead.\n",
      "  merged_geom = block.unary_union\n"
     ]
    }
   ],
   "source": [
    "uc = utk.OSM.load([40.699768, -74.019904, 40.71135, -74.004712], layers=[{'name':'buildings', 'args': {'sizeCells': 5}}, {'name':'surface', 'args': {'sizeCells': 5}}, 'parks', 'water', 'roads'])\n",
    "\n"
   ]
  },
  {
   "cell_type": "code",
   "execution_count": null,
   "id": "384c240a-6230-43a7-9aee-08323e94d8c1",
   "metadata": {},
   "outputs": [],
   "source": [
    "uc.view()"
   ]
  },
  {
   "cell_type": "code",
   "execution_count": null,
   "id": "c0ef9e15-6faa-40f2-b6c2-4766931a26c8",
   "metadata": {},
   "outputs": [],
   "source": []
  }
 ],
 "metadata": {
  "kernelspec": {
   "display_name": "Python 3",
   "language": "python",
   "name": "python3"
  },
  "language_info": {
   "codemirror_mode": {
    "name": "ipython",
    "version": 3
   },
   "file_extension": ".py",
   "mimetype": "text/x-python",
   "name": "python",
   "nbconvert_exporter": "python",
   "pygments_lexer": "ipython3",
   "version": "3.10.5"
  }
 },
 "nbformat": 4,
 "nbformat_minor": 5
}
