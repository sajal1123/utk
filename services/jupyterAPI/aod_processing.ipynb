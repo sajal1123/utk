{
 "cells": [
  {
   "cell_type": "code",
   "execution_count": 1,
   "id": "5fdac743-099a-40d5-a463-b172c3ea7526",
   "metadata": {},
   "outputs": [
    {
     "name": "stderr",
     "output_type": "stream",
     "text": [
      "/opt/conda/lib/python3.10/site-packages/geopandas/_compat.py:112: UserWarning: The Shapely GEOS version (3.10.3-CAPI-1.16.1) is incompatible with the GEOS version PyGEOS was compiled with (3.10.4-CAPI-1.16.2). Conversions between both will be slow.\n",
      "  warnings.warn(\n"
     ]
    }
   ],
   "source": [
    "import pandas as pd\n",
    "import utk"
   ]
  },
  {
   "cell_type": "code",
   "execution_count": 2,
   "id": "432197f2-f2f7-4e42-bd9d-ec8fed1db711",
   "metadata": {},
   "outputs": [],
   "source": [
    "df = pd.read_csv('./data/AOD/aod_june_2023_360_180.csv')"
   ]
  },
  {
   "cell_type": "code",
   "execution_count": 3,
   "id": "0bc2442e-780c-46ed-99c3-5b05bc6edbab",
   "metadata": {},
   "outputs": [],
   "source": [
    "longitudes = list(df.keys())[1:]\n",
    "all_longitudes = []\n",
    "latitudes = []\n",
    "values = []\n",
    "\n",
    "for i in range(len(df)):\n",
    "    for j in range(1,len(longitudes)+1):        \n",
    "        values.append(df.iloc[i][j])\n",
    "        latitudes.append(df.iloc[i]['lat/lon'])\n",
    "        all_longitudes.append(longitudes[j-1])"
   ]
  },
  {
   "cell_type": "code",
   "execution_count": 4,
   "id": "ba0814d6-2240-4952-a254-55519c050dd1",
   "metadata": {},
   "outputs": [],
   "source": [
    "unwrapped_df = pd.DataFrame(data={'latitude': latitudes, 'longitude': all_longitudes, 'value': values})"
   ]
  },
  {
   "cell_type": "code",
   "execution_count": 5,
   "id": "92733896-b3c3-4c24-af5a-9f1af9506e9c",
   "metadata": {},
   "outputs": [],
   "source": [
    "unwrapped_df = unwrapped_df.astype(float)"
   ]
  },
  {
   "cell_type": "markdown",
   "id": "bdb091c0-d83f-4d82-81be-593e68700730",
   "metadata": {},
   "source": [
    "### Generating thematic layer"
   ]
  },
  {
   "cell_type": "code",
   "execution_count": 6,
   "id": "fa034c34-098a-4807-902a-c63be4e1376c",
   "metadata": {},
   "outputs": [],
   "source": [
    "utk.df_to_abstract('./data/AOD/', unwrapped_df, 'aod', 'value', 'latitude', 'longitude', '4326')"
   ]
  },
  {
   "cell_type": "markdown",
   "id": "4c3fe74b-e9b5-477f-89fb-e3e62a746261",
   "metadata": {},
   "source": [
    "### Generating surface physical layer"
   ]
  },
  {
   "cell_type": "code",
   "execution_count": null,
   "id": "eb6ecc18-3bf9-4127-92b3-a91103793ffb",
   "metadata": {},
   "outputs": [],
   "source": [
    "uc = utk.OSM.load([41.656944, -87.8079, 41.997314, -87.53212],layers=[{'name': 'surface', 'args': {'nCells': 50}}])"
   ]
  },
  {
   "cell_type": "code",
   "execution_count": null,
   "id": "17cd27e1-f572-4b1d-bd8d-2600ff2d7658",
   "metadata": {},
   "outputs": [],
   "source": []
  }
 ],
 "metadata": {
  "kernelspec": {
   "display_name": "Python 3 (ipykernel)",
   "language": "python",
   "name": "python3"
  },
  "language_info": {
   "codemirror_mode": {
    "name": "ipython",
    "version": 3
   },
   "file_extension": ".py",
   "mimetype": "text/x-python",
   "name": "python",
   "nbconvert_exporter": "python",
   "pygments_lexer": "ipython3",
   "version": "3.10.11"
  }
 },
 "nbformat": 4,
 "nbformat_minor": 5
}
